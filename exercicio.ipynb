{
 "cells": [
  {
   "cell_type": "markdown",
   "id": "9f3be46b",
   "metadata": {},
   "source": [
    "Crie um DataFrame com pelo menos 5 estudantes, onde algumas notas estejam ausentes (use np.nan para representar os valores nulos).\n",
    "\n",
    "Aplique o método isnull() para verificar quantas notas estão faltando.\n",
    "\n",
    "Preencha as notas ausentes com a média das notas dos estudantes que têm notas preenchidas.\n",
    "\n",
    "Converta a coluna \"idade\" para o tipo inteiro, caso esteja como float.\n",
    "\n",
    "Exiba o DataFrame final para verificar se as notas foram preenchidas corretamente e se a coluna \"idade\" está no formato correto.\n"
   ]
  },
  {
   "cell_type": "code",
   "execution_count": 12,
   "id": "b90d3cb1",
   "metadata": {},
   "outputs": [],
   "source": [
    "import pandas as pd\n",
    "import numpy as np"
   ]
  },
  {
   "cell_type": "code",
   "execution_count": 13,
   "id": "a8841dd2",
   "metadata": {},
   "outputs": [
    {
     "data": {
      "text/html": [
       "<div>\n",
       "<style scoped>\n",
       "    .dataframe tbody tr th:only-of-type {\n",
       "        vertical-align: middle;\n",
       "    }\n",
       "\n",
       "    .dataframe tbody tr th {\n",
       "        vertical-align: top;\n",
       "    }\n",
       "\n",
       "    .dataframe thead th {\n",
       "        text-align: right;\n",
       "    }\n",
       "</style>\n",
       "<table border=\"1\" class=\"dataframe\">\n",
       "  <thead>\n",
       "    <tr style=\"text-align: right;\">\n",
       "      <th></th>\n",
       "      <th>Nome</th>\n",
       "      <th>Nota</th>\n",
       "      <th>Idade</th>\n",
       "    </tr>\n",
       "  </thead>\n",
       "  <tbody>\n",
       "    <tr>\n",
       "      <th>0</th>\n",
       "      <td>Ana</td>\n",
       "      <td>8.5</td>\n",
       "      <td>23</td>\n",
       "    </tr>\n",
       "    <tr>\n",
       "      <th>1</th>\n",
       "      <td>Maria</td>\n",
       "      <td>NaN</td>\n",
       "      <td>30</td>\n",
       "    </tr>\n",
       "    <tr>\n",
       "      <th>2</th>\n",
       "      <td>Pedro</td>\n",
       "      <td>7.5</td>\n",
       "      <td>21</td>\n",
       "    </tr>\n",
       "    <tr>\n",
       "      <th>3</th>\n",
       "      <td>João</td>\n",
       "      <td>8.0</td>\n",
       "      <td>25</td>\n",
       "    </tr>\n",
       "    <tr>\n",
       "      <th>4</th>\n",
       "      <td>Lucas</td>\n",
       "      <td>NaN</td>\n",
       "      <td>28</td>\n",
       "    </tr>\n",
       "  </tbody>\n",
       "</table>\n",
       "</div>"
      ],
      "text/plain": [
       "    Nome  Nota  Idade\n",
       "0    Ana   8.5     23\n",
       "1  Maria   NaN     30\n",
       "2  Pedro   7.5     21\n",
       "3   João   8.0     25\n",
       "4  Lucas   NaN     28"
      ]
     },
     "execution_count": 13,
     "metadata": {},
     "output_type": "execute_result"
    }
   ],
   "source": [
    "df_estudantes = pd.DataFrame({\n",
    "    'Nome': ['Ana', 'Maria', 'Pedro', 'João', 'Lucas'],\n",
    "    'Nota': [8.5, np.nan, 7.5, 8.0, np.nan],\n",
    "    'Idade': [23, 30, 21, 25, 28]\n",
    "})\n",
    "\n",
    "df_estudantes"
   ]
  },
  {
   "cell_type": "code",
   "execution_count": 14,
   "id": "e1b4fcbb",
   "metadata": {},
   "outputs": [
    {
     "data": {
      "text/plain": [
       "Nome     0\n",
       "Nota     2\n",
       "Idade    0\n",
       "dtype: int64"
      ]
     },
     "execution_count": 14,
     "metadata": {},
     "output_type": "execute_result"
    }
   ],
   "source": [
    "df_estudantes.isnull().sum()    "
   ]
  },
  {
   "cell_type": "code",
   "execution_count": 15,
   "id": "6eab2dc7",
   "metadata": {},
   "outputs": [
    {
     "data": {
      "text/html": [
       "<div>\n",
       "<style scoped>\n",
       "    .dataframe tbody tr th:only-of-type {\n",
       "        vertical-align: middle;\n",
       "    }\n",
       "\n",
       "    .dataframe tbody tr th {\n",
       "        vertical-align: top;\n",
       "    }\n",
       "\n",
       "    .dataframe thead th {\n",
       "        text-align: right;\n",
       "    }\n",
       "</style>\n",
       "<table border=\"1\" class=\"dataframe\">\n",
       "  <thead>\n",
       "    <tr style=\"text-align: right;\">\n",
       "      <th></th>\n",
       "      <th>Nome</th>\n",
       "      <th>Nota</th>\n",
       "      <th>Idade</th>\n",
       "      <th>Nota_Preenchida</th>\n",
       "    </tr>\n",
       "  </thead>\n",
       "  <tbody>\n",
       "    <tr>\n",
       "      <th>0</th>\n",
       "      <td>Ana</td>\n",
       "      <td>8.5</td>\n",
       "      <td>23</td>\n",
       "      <td>8.5</td>\n",
       "    </tr>\n",
       "    <tr>\n",
       "      <th>1</th>\n",
       "      <td>Maria</td>\n",
       "      <td>NaN</td>\n",
       "      <td>30</td>\n",
       "      <td>8.0</td>\n",
       "    </tr>\n",
       "    <tr>\n",
       "      <th>2</th>\n",
       "      <td>Pedro</td>\n",
       "      <td>7.5</td>\n",
       "      <td>21</td>\n",
       "      <td>7.5</td>\n",
       "    </tr>\n",
       "    <tr>\n",
       "      <th>3</th>\n",
       "      <td>João</td>\n",
       "      <td>8.0</td>\n",
       "      <td>25</td>\n",
       "      <td>8.0</td>\n",
       "    </tr>\n",
       "    <tr>\n",
       "      <th>4</th>\n",
       "      <td>Lucas</td>\n",
       "      <td>NaN</td>\n",
       "      <td>28</td>\n",
       "      <td>8.0</td>\n",
       "    </tr>\n",
       "  </tbody>\n",
       "</table>\n",
       "</div>"
      ],
      "text/plain": [
       "    Nome  Nota  Idade  Nota_Preenchida\n",
       "0    Ana   8.5     23              8.5\n",
       "1  Maria   NaN     30              8.0\n",
       "2  Pedro   7.5     21              7.5\n",
       "3   João   8.0     25              8.0\n",
       "4  Lucas   NaN     28              8.0"
      ]
     },
     "execution_count": 15,
     "metadata": {},
     "output_type": "execute_result"
    }
   ],
   "source": [
    "df_estudantes['Nota_Preenchida'] = df_estudantes['Nota'].fillna(df_estudantes['Nota'].mean())\n",
    "\n",
    "df_estudantes"
   ]
  },
  {
   "cell_type": "code",
   "execution_count": 16,
   "id": "7f4f0929",
   "metadata": {},
   "outputs": [
    {
     "name": "stdout",
     "output_type": "stream",
     "text": [
      "<class 'pandas.core.frame.DataFrame'>\n",
      "RangeIndex: 5 entries, 0 to 4\n",
      "Data columns (total 4 columns):\n",
      " #   Column           Non-Null Count  Dtype  \n",
      "---  ------           --------------  -----  \n",
      " 0   Nome             5 non-null      object \n",
      " 1   Nota             3 non-null      float64\n",
      " 2   Idade            5 non-null      int64  \n",
      " 3   Nota_Preenchida  5 non-null      float64\n",
      "dtypes: float64(2), int64(1), object(1)\n",
      "memory usage: 292.0+ bytes\n"
     ]
    }
   ],
   "source": [
    "df_estudantes.info()"
   ]
  },
  {
   "cell_type": "code",
   "execution_count": 21,
   "id": "1ae62874",
   "metadata": {},
   "outputs": [],
   "source": [
    "df_estudantes['Idade'] = df_estudantes['Idade'].astype('int64')"
   ]
  },
  {
   "cell_type": "code",
   "execution_count": 22,
   "id": "d70cb993",
   "metadata": {},
   "outputs": [
    {
     "data": {
      "text/html": [
       "<div>\n",
       "<style scoped>\n",
       "    .dataframe tbody tr th:only-of-type {\n",
       "        vertical-align: middle;\n",
       "    }\n",
       "\n",
       "    .dataframe tbody tr th {\n",
       "        vertical-align: top;\n",
       "    }\n",
       "\n",
       "    .dataframe thead th {\n",
       "        text-align: right;\n",
       "    }\n",
       "</style>\n",
       "<table border=\"1\" class=\"dataframe\">\n",
       "  <thead>\n",
       "    <tr style=\"text-align: right;\">\n",
       "      <th></th>\n",
       "      <th>Nome</th>\n",
       "      <th>Nota</th>\n",
       "      <th>Idade</th>\n",
       "      <th>Nota_Preenchida</th>\n",
       "    </tr>\n",
       "  </thead>\n",
       "  <tbody>\n",
       "    <tr>\n",
       "      <th>0</th>\n",
       "      <td>Ana</td>\n",
       "      <td>8.5</td>\n",
       "      <td>23</td>\n",
       "      <td>8.5</td>\n",
       "    </tr>\n",
       "    <tr>\n",
       "      <th>1</th>\n",
       "      <td>Maria</td>\n",
       "      <td>NaN</td>\n",
       "      <td>30</td>\n",
       "      <td>8.0</td>\n",
       "    </tr>\n",
       "    <tr>\n",
       "      <th>2</th>\n",
       "      <td>Pedro</td>\n",
       "      <td>7.5</td>\n",
       "      <td>21</td>\n",
       "      <td>7.5</td>\n",
       "    </tr>\n",
       "    <tr>\n",
       "      <th>3</th>\n",
       "      <td>João</td>\n",
       "      <td>8.0</td>\n",
       "      <td>25</td>\n",
       "      <td>8.0</td>\n",
       "    </tr>\n",
       "    <tr>\n",
       "      <th>4</th>\n",
       "      <td>Lucas</td>\n",
       "      <td>NaN</td>\n",
       "      <td>28</td>\n",
       "      <td>8.0</td>\n",
       "    </tr>\n",
       "  </tbody>\n",
       "</table>\n",
       "</div>"
      ],
      "text/plain": [
       "    Nome  Nota  Idade  Nota_Preenchida\n",
       "0    Ana   8.5     23              8.5\n",
       "1  Maria   NaN     30              8.0\n",
       "2  Pedro   7.5     21              7.5\n",
       "3   João   8.0     25              8.0\n",
       "4  Lucas   NaN     28              8.0"
      ]
     },
     "metadata": {},
     "output_type": "display_data"
    },
    {
     "name": "stdout",
     "output_type": "stream",
     "text": [
      "<class 'pandas.core.frame.DataFrame'>\n",
      "RangeIndex: 5 entries, 0 to 4\n",
      "Data columns (total 4 columns):\n",
      " #   Column           Non-Null Count  Dtype  \n",
      "---  ------           --------------  -----  \n",
      " 0   Nome             5 non-null      object \n",
      " 1   Nota             3 non-null      float64\n",
      " 2   Idade            5 non-null      int64  \n",
      " 3   Nota_Preenchida  5 non-null      float64\n",
      "dtypes: float64(2), int64(1), object(1)\n",
      "memory usage: 292.0+ bytes\n"
     ]
    }
   ],
   "source": [
    "display(df_estudantes)\n",
    "df_estudantes.info()"
   ]
  }
 ],
 "metadata": {
  "kernelspec": {
   "display_name": "Python 3",
   "language": "python",
   "name": "python3"
  },
  "language_info": {
   "codemirror_mode": {
    "name": "ipython",
    "version": 3
   },
   "file_extension": ".py",
   "mimetype": "text/x-python",
   "name": "python",
   "nbconvert_exporter": "python",
   "pygments_lexer": "ipython3",
   "version": "3.13.3"
  }
 },
 "nbformat": 4,
 "nbformat_minor": 5
}
